{
  "nbformat": 4,
  "nbformat_minor": 0,
  "metadata": {
    "colab": {
      "provenance": [],
      "gpuType": "T4",
      "authorship_tag": "ABX9TyPjBe3iuTzyyju4ctZKK32v",
      "include_colab_link": true
    },
    "kernelspec": {
      "name": "python3",
      "display_name": "Python 3"
    },
    "language_info": {
      "name": "python"
    },
    "accelerator": "GPU"
  },
  "cells": [
    {
      "cell_type": "markdown",
      "metadata": {
        "id": "view-in-github",
        "colab_type": "text"
      },
      "source": [
        "<a href=\"https://colab.research.google.com/github/cnddlf/Deep-Learning-Study/blob/main/GAN.ipynb\" target=\"_parent\"><img src=\"https://colab.research.google.com/assets/colab-badge.svg\" alt=\"Open In Colab\"/></a>"
      ]
    },
    {
      "cell_type": "code",
      "execution_count": null,
      "metadata": {
        "id": "eEYklnVVuMvL"
      },
      "outputs": [],
      "source": [
        "import torch\n",
        "import torch.nn as nn\n",
        "\n",
        "from torchvision import datasets\n",
        "import torchvision.transforms as transforms\n",
        "from torchvision.utils import save_image"
      ]
    },
    {
      "cell_type": "markdown",
      "source": [
        "#생성자(Generator) 및 판별자(Discriminator) 모델 정의"
      ],
      "metadata": {
        "id": "2Ureo5ZX-4vW"
      }
    },
    {
      "cell_type": "code",
      "source": [
        "latent_dim = 100\n",
        "\n",
        "\n",
        "# 생성자(Generator) 클래스 정의\n",
        "class Generator(nn.Module):\n",
        "    def __init__(self):\n",
        "        super(Generator, self).__init__()\n",
        "\n",
        "        # 하나의 블록(block) 정의\n",
        "        def block(input_dim, output_dim, normalize=True):\n",
        "            layers = [nn.Linear(input_dim, output_dim)]\n",
        "            if normalize:\n",
        "                # 배치 정규화(batch normalization) 수행(차원 동일)\n",
        "                layers.append(nn.BatchNorm1d(output_dim, 0.8))\n",
        "            layers.append(nn.LeakyReLU(0.2, inplace=True))\n",
        "            return layers\n",
        "\n",
        "        # 생성자 모델은 연속적인 여러 개의 블록을 가짐\n",
        "        self.model = nn.Sequential(\n",
        "            *block(latent_dim, 128, normalize=False),\n",
        "            *block(128, 256),\n",
        "            *block(256, 512),\n",
        "            *block(512, 1024),\n",
        "            nn.Linear(1024, 1 * 28 * 28),\n",
        "            nn.Tanh()\n",
        "        )\n",
        "\n",
        "    def forward(self, z):\n",
        "        img = self.model(z)\n",
        "        img = img.view(img.size(0), 1, 28, 28)\n",
        "        return img"
      ],
      "metadata": {
        "id": "7lieeLsS-5GM"
      },
      "execution_count": null,
      "outputs": []
    },
    {
      "cell_type": "code",
      "source": [
        "# 판별자(Discriminator) 클래스 정의\n",
        "class Discriminator(nn.Module):\n",
        "    def __init__(self):\n",
        "        super(Discriminator, self).__init__()\n",
        "\n",
        "        self.model = nn.Sequential(\n",
        "            nn.Linear(1 * 28 * 28, 512),\n",
        "            nn.LeakyReLU(0.2, inplace=True),\n",
        "            nn.Linear(512, 256),\n",
        "            nn.LeakyReLU(0.2, inplace=True),\n",
        "            nn.Linear(256, 1),\n",
        "            nn.Sigmoid(),\n",
        "        )\n",
        "\n",
        "    # 이미지에 대한 판별 결과를 반환\n",
        "    def forward(self, img):\n",
        "        flattened = img.view(img.size(0), -1)\n",
        "        output = self.model(flattened)\n",
        "\n",
        "        return output\n"
      ],
      "metadata": {
        "id": "P8iv0Dhg-86S"
      },
      "execution_count": null,
      "outputs": []
    },
    {
      "cell_type": "markdown",
      "source": [
        "#학습 데이터셋 불러오기\n",
        "MNIST 데이터셋"
      ],
      "metadata": {
        "id": "0Jy8lPI9-_HZ"
      }
    },
    {
      "cell_type": "code",
      "source": [
        "transforms_train = transforms.Compose([\n",
        "    transforms.Resize(28),\n",
        "    transforms.ToTensor(),\n",
        "    transforms.Normalize([0.5], [0.5])\n",
        "])\n",
        "\n",
        "train_dataset = datasets.MNIST(root=\"./dataset\", train=True, download=True, transform=transforms_train)\n",
        "dataloader = torch.utils.data.DataLoader(train_dataset, batch_size=128, shuffle=True, num_workers=4)"
      ],
      "metadata": {
        "colab": {
          "base_uri": "https://localhost:8080/"
        },
        "id": "fOLtzdvt_EUb",
        "outputId": "d05598a6-c9c3-4944-f492-10b0eedce909"
      },
      "execution_count": null,
      "outputs": [
        {
          "output_type": "stream",
          "name": "stdout",
          "text": [
            "Downloading http://yann.lecun.com/exdb/mnist/train-images-idx3-ubyte.gz\n",
            "Downloading http://yann.lecun.com/exdb/mnist/train-images-idx3-ubyte.gz to ./dataset/MNIST/raw/train-images-idx3-ubyte.gz\n"
          ]
        },
        {
          "output_type": "stream",
          "name": "stderr",
          "text": [
            "100%|██████████| 9912422/9912422 [00:00<00:00, 127433177.25it/s]\n"
          ]
        },
        {
          "output_type": "stream",
          "name": "stdout",
          "text": [
            "Extracting ./dataset/MNIST/raw/train-images-idx3-ubyte.gz to ./dataset/MNIST/raw\n",
            "\n",
            "Downloading http://yann.lecun.com/exdb/mnist/train-labels-idx1-ubyte.gz\n",
            "Downloading http://yann.lecun.com/exdb/mnist/train-labels-idx1-ubyte.gz to ./dataset/MNIST/raw/train-labels-idx1-ubyte.gz\n"
          ]
        },
        {
          "output_type": "stream",
          "name": "stderr",
          "text": [
            "100%|██████████| 28881/28881 [00:00<00:00, 20222987.28it/s]\n"
          ]
        },
        {
          "output_type": "stream",
          "name": "stdout",
          "text": [
            "Extracting ./dataset/MNIST/raw/train-labels-idx1-ubyte.gz to ./dataset/MNIST/raw\n",
            "\n",
            "Downloading http://yann.lecun.com/exdb/mnist/t10k-images-idx3-ubyte.gz\n",
            "Downloading http://yann.lecun.com/exdb/mnist/t10k-images-idx3-ubyte.gz to ./dataset/MNIST/raw/t10k-images-idx3-ubyte.gz\n"
          ]
        },
        {
          "output_type": "stream",
          "name": "stderr",
          "text": [
            "100%|██████████| 1648877/1648877 [00:00<00:00, 60017108.07it/s]"
          ]
        },
        {
          "output_type": "stream",
          "name": "stdout",
          "text": [
            "Extracting ./dataset/MNIST/raw/t10k-images-idx3-ubyte.gz to ./dataset/MNIST/raw\n"
          ]
        },
        {
          "output_type": "stream",
          "name": "stderr",
          "text": [
            "\n"
          ]
        },
        {
          "output_type": "stream",
          "name": "stdout",
          "text": [
            "\n",
            "Downloading http://yann.lecun.com/exdb/mnist/t10k-labels-idx1-ubyte.gz\n",
            "Downloading http://yann.lecun.com/exdb/mnist/t10k-labels-idx1-ubyte.gz to ./dataset/MNIST/raw/t10k-labels-idx1-ubyte.gz\n"
          ]
        },
        {
          "output_type": "stream",
          "name": "stderr",
          "text": [
            "100%|██████████| 4542/4542 [00:00<00:00, 6440341.03it/s]\n"
          ]
        },
        {
          "output_type": "stream",
          "name": "stdout",
          "text": [
            "Extracting ./dataset/MNIST/raw/t10k-labels-idx1-ubyte.gz to ./dataset/MNIST/raw\n",
            "\n"
          ]
        },
        {
          "output_type": "stream",
          "name": "stderr",
          "text": [
            "/usr/local/lib/python3.10/dist-packages/torch/utils/data/dataloader.py:558: UserWarning: This DataLoader will create 4 worker processes in total. Our suggested max number of worker in current system is 2, which is smaller than what this DataLoader is going to create. Please be aware that excessive worker creation might get DataLoader running slow or even freeze, lower the worker number to avoid potential slowness/freeze if necessary.\n",
            "  warnings.warn(_create_warning_msg(\n"
          ]
        }
      ]
    },
    {
      "cell_type": "markdown",
      "source": [
        "# 모델 학습 및 샘플링\n",
        "\n",
        "*   학습을 위해 생성자와 판별자 모델을 초기화합니다.\n",
        "*   적절한 하이퍼 파라미터를 설정합니다.\n",
        "\n"
      ],
      "metadata": {
        "id": "4AJ39QyF_KM2"
      }
    },
    {
      "cell_type": "code",
      "source": [
        "# 생성자(generator)와 판별자(discriminator) 초기화\n",
        "generator = Generator()\n",
        "discriminator = Discriminator()\n",
        "\n",
        "generator.cuda()\n",
        "discriminator.cuda()\n",
        "\n",
        "# 손실 함수(loss function)\n",
        "adversarial_loss = nn.BCELoss()\n",
        "adversarial_loss.cuda()\n",
        "\n",
        "# 학습률(learning rate) 설정\n",
        "lr = 0.0002\n",
        "\n",
        "# 생성자와 판별자를 위한 최적화 함수\n",
        "optimizer_G = torch.optim.Adam(generator.parameters(), lr=lr, betas=(0.5, 0.999))\n",
        "optimizer_D = torch.optim.Adam(discriminator.parameters(), lr=lr, betas=(0.5, 0.999))"
      ],
      "metadata": {
        "id": "X7ay3C2v_U6Y"
      },
      "execution_count": null,
      "outputs": []
    },
    {
      "cell_type": "markdown",
      "source": [
        "\n",
        "\n",
        "*   모델을 학습하면서 주기적으로 샘플링하여 결과를 확인할 수 있습니다.\n",
        "\n"
      ],
      "metadata": {
        "id": "2_dUDMWC_XDY"
      }
    },
    {
      "cell_type": "code",
      "source": [
        "import time\n",
        "\n",
        "n_epochs = 200 # 학습의 횟수(epoch) 설정\n",
        "sample_interval = 2000 # 몇 번의 배치(batch)마다 결과를 출력할 것인지 설정\n",
        "start_time = time.time()\n",
        "\n",
        "for epoch in range(n_epochs):\n",
        "    for i, (imgs, _) in enumerate(dataloader):\n",
        "\n",
        "        # 진짜(real) 이미지와 가짜(fake) 이미지에 대한 정답 레이블 생성\n",
        "        real = torch.cuda.FloatTensor(imgs.size(0), 1).fill_(1.0) # 진짜(real): 1\n",
        "        fake = torch.cuda.FloatTensor(imgs.size(0), 1).fill_(0.0) # 가짜(fake): 0\n",
        "\n",
        "        real_imgs = imgs.cuda()\n",
        "\n",
        "        \"\"\" 생성자(generator)를 학습합니다. \"\"\"\n",
        "        optimizer_G.zero_grad()\n",
        "\n",
        "        # 랜덤 노이즈(noise) 샘플링\n",
        "        z = torch.normal(mean=0, std=1, size=(imgs.shape[0], latent_dim)).cuda()\n",
        "\n",
        "        # 이미지 생성\n",
        "        generated_imgs = generator(z)\n",
        "\n",
        "        # 생성자(generator)의 손실(loss) 값 계산\n",
        "        g_loss = adversarial_loss(discriminator(generated_imgs), real)\n",
        "\n",
        "        # 생성자(generator) 업데이트\n",
        "        g_loss.backward()\n",
        "        optimizer_G.step()\n",
        "\n",
        "        \"\"\" 판별자(discriminator)를 학습합니다. \"\"\"\n",
        "        optimizer_D.zero_grad()\n",
        "\n",
        "        # 판별자(discriminator)의 손실(loss) 값 계산\n",
        "        real_loss = adversarial_loss(discriminator(real_imgs), real)\n",
        "        fake_loss = adversarial_loss(discriminator(generated_imgs.detach()), fake)\n",
        "        d_loss = (real_loss + fake_loss) / 2\n",
        "\n",
        "        # 판별자(discriminator) 업데이트\n",
        "        d_loss.backward()\n",
        "        optimizer_D.step()\n",
        "\n",
        "        done = epoch * len(dataloader) + i\n",
        "        if done % sample_interval == 0:\n",
        "            # 생성된 이미지 중에서 25개만 선택하여 5 X 5 격자 이미지에 출력\n",
        "            save_image(generated_imgs.data[:25], f\"{done}.png\", nrow=5, normalize=True)\n",
        "\n",
        "    # 하나의 epoch이 끝날 때마다 로그(log) 출력\n",
        "    print(f\"[Epoch {epoch}/{n_epochs}] [D loss: {d_loss.item():.6f}] [G loss: {g_loss.item():.6f}] [Elapsed time: {time.time() - start_time:.2f}s]\")\n"
      ],
      "metadata": {
        "colab": {
          "base_uri": "https://localhost:8080/"
        },
        "id": "1mUS7_ze_aHr",
        "outputId": "a5689c3c-5c5e-4758-c5ce-9ebaba2ce6ac"
      },
      "execution_count": null,
      "outputs": [
        {
          "output_type": "stream",
          "name": "stderr",
          "text": [
            "<ipython-input-7-79bbf3e62942>:11: UserWarning: The torch.cuda.*DtypeTensor constructors are no longer recommended. It's best to use methods such as torch.tensor(data, dtype=*, device='cuda') to create tensors. (Triggered internally at ../torch/csrc/tensor/python_tensor.cpp:83.)\n",
            "  real = torch.cuda.FloatTensor(imgs.size(0), 1).fill_(1.0) # 진짜(real): 1\n"
          ]
        },
        {
          "output_type": "stream",
          "name": "stdout",
          "text": [
            "[Epoch 0/200] [D loss: 0.472307] [G loss: 1.019386] [Elapsed time: 16.14s]\n",
            "[Epoch 1/200] [D loss: 1.069415] [G loss: 0.170784] [Elapsed time: 30.75s]\n",
            "[Epoch 2/200] [D loss: 0.370385] [G loss: 1.916489] [Elapsed time: 45.40s]\n",
            "[Epoch 3/200] [D loss: 0.384729] [G loss: 1.783212] [Elapsed time: 60.81s]\n",
            "[Epoch 4/200] [D loss: 0.430012] [G loss: 0.679564] [Elapsed time: 76.19s]\n",
            "[Epoch 5/200] [D loss: 0.411508] [G loss: 3.184466] [Elapsed time: 92.01s]\n",
            "[Epoch 6/200] [D loss: 0.264737] [G loss: 1.149406] [Elapsed time: 106.91s]\n",
            "[Epoch 7/200] [D loss: 0.335234] [G loss: 1.026728] [Elapsed time: 121.80s]\n",
            "[Epoch 8/200] [D loss: 0.213181] [G loss: 1.563425] [Elapsed time: 136.74s]\n",
            "[Epoch 9/200] [D loss: 0.258065] [G loss: 1.234951] [Elapsed time: 152.37s]\n",
            "[Epoch 10/200] [D loss: 0.190035] [G loss: 1.917986] [Elapsed time: 167.24s]\n",
            "[Epoch 11/200] [D loss: 0.304763] [G loss: 4.133131] [Elapsed time: 181.95s]\n",
            "[Epoch 12/200] [D loss: 0.265348] [G loss: 1.685746] [Elapsed time: 196.70s]\n",
            "[Epoch 13/200] [D loss: 0.407374] [G loss: 4.205834] [Elapsed time: 211.87s]\n",
            "[Epoch 14/200] [D loss: 0.169815] [G loss: 1.513491] [Elapsed time: 227.39s]\n",
            "[Epoch 15/200] [D loss: 0.317768] [G loss: 4.619482] [Elapsed time: 242.40s]\n",
            "[Epoch 16/200] [D loss: 0.246720] [G loss: 2.295761] [Elapsed time: 257.11s]\n",
            "[Epoch 17/200] [D loss: 0.248750] [G loss: 3.441651] [Elapsed time: 272.21s]\n",
            "[Epoch 18/200] [D loss: 0.204168] [G loss: 3.913763] [Elapsed time: 286.88s]\n",
            "[Epoch 19/200] [D loss: 0.096491] [G loss: 2.711529] [Elapsed time: 303.63s]\n",
            "[Epoch 20/200] [D loss: 0.261513] [G loss: 2.907263] [Elapsed time: 318.56s]\n",
            "[Epoch 21/200] [D loss: 0.157564] [G loss: 3.408455] [Elapsed time: 333.72s]\n",
            "[Epoch 22/200] [D loss: 0.284026] [G loss: 1.517846] [Elapsed time: 348.65s]\n",
            "[Epoch 23/200] [D loss: 0.151606] [G loss: 1.879626] [Elapsed time: 364.38s]\n",
            "[Epoch 24/200] [D loss: 0.195187] [G loss: 2.660635] [Elapsed time: 379.25s]\n",
            "[Epoch 25/200] [D loss: 0.159515] [G loss: 2.076851] [Elapsed time: 394.41s]\n",
            "[Epoch 26/200] [D loss: 0.446259] [G loss: 0.664340] [Elapsed time: 409.37s]\n",
            "[Epoch 27/200] [D loss: 0.145430] [G loss: 2.846212] [Elapsed time: 424.59s]\n",
            "[Epoch 28/200] [D loss: 0.149070] [G loss: 2.857168] [Elapsed time: 440.60s]\n",
            "[Epoch 29/200] [D loss: 0.203421] [G loss: 2.501455] [Elapsed time: 455.73s]\n",
            "[Epoch 30/200] [D loss: 0.433590] [G loss: 5.206803] [Elapsed time: 471.07s]\n",
            "[Epoch 31/200] [D loss: 0.166488] [G loss: 3.473694] [Elapsed time: 486.28s]\n",
            "[Epoch 32/200] [D loss: 0.355405] [G loss: 5.561208] [Elapsed time: 501.57s]\n",
            "[Epoch 33/200] [D loss: 0.226529] [G loss: 1.822619] [Elapsed time: 518.34s]\n",
            "[Epoch 34/200] [D loss: 0.196527] [G loss: 2.613517] [Elapsed time: 533.61s]\n",
            "[Epoch 35/200] [D loss: 0.161719] [G loss: 2.827380] [Elapsed time: 548.70s]\n",
            "[Epoch 36/200] [D loss: 0.147818] [G loss: 2.769813] [Elapsed time: 563.89s]\n",
            "[Epoch 37/200] [D loss: 0.387376] [G loss: 7.546083] [Elapsed time: 579.50s]\n",
            "[Epoch 38/200] [D loss: 0.130866] [G loss: 2.403622] [Elapsed time: 594.60s]\n",
            "[Epoch 39/200] [D loss: 0.197846] [G loss: 3.344697] [Elapsed time: 609.55s]\n",
            "[Epoch 40/200] [D loss: 0.201700] [G loss: 2.207269] [Elapsed time: 624.71s]\n",
            "[Epoch 41/200] [D loss: 0.099082] [G loss: 2.277700] [Elapsed time: 640.66s]\n",
            "[Epoch 42/200] [D loss: 0.306032] [G loss: 1.392702] [Elapsed time: 655.67s]\n",
            "[Epoch 43/200] [D loss: 0.163384] [G loss: 2.561953] [Elapsed time: 670.60s]\n",
            "[Epoch 44/200] [D loss: 1.556698] [G loss: 12.010077] [Elapsed time: 685.49s]\n",
            "[Epoch 45/200] [D loss: 0.118900] [G loss: 2.435044] [Elapsed time: 700.49s]\n",
            "[Epoch 46/200] [D loss: 0.169151] [G loss: 4.723798] [Elapsed time: 716.22s]\n",
            "[Epoch 47/200] [D loss: 0.216193] [G loss: 2.363848] [Elapsed time: 732.24s]\n",
            "[Epoch 48/200] [D loss: 0.131021] [G loss: 2.735321] [Elapsed time: 747.23s]\n",
            "[Epoch 49/200] [D loss: 0.215371] [G loss: 2.292861] [Elapsed time: 762.60s]\n",
            "[Epoch 50/200] [D loss: 0.538308] [G loss: 6.896641] [Elapsed time: 778.57s]\n",
            "[Epoch 51/200] [D loss: 0.173723] [G loss: 1.837921] [Elapsed time: 793.72s]\n",
            "[Epoch 52/200] [D loss: 0.248876] [G loss: 4.009878] [Elapsed time: 808.83s]\n",
            "[Epoch 53/200] [D loss: 0.177001] [G loss: 2.855410] [Elapsed time: 823.97s]\n",
            "[Epoch 54/200] [D loss: 0.153192] [G loss: 3.371242] [Elapsed time: 839.61s]\n",
            "[Epoch 55/200] [D loss: 0.165165] [G loss: 3.818946] [Elapsed time: 855.43s]\n",
            "[Epoch 56/200] [D loss: 0.257781] [G loss: 3.699891] [Elapsed time: 870.86s]\n",
            "[Epoch 57/200] [D loss: 0.101541] [G loss: 2.565553] [Elapsed time: 886.34s]\n",
            "[Epoch 58/200] [D loss: 0.237939] [G loss: 2.862564] [Elapsed time: 901.72s]\n",
            "[Epoch 59/200] [D loss: 0.248777] [G loss: 3.295310] [Elapsed time: 918.01s]\n",
            "[Epoch 60/200] [D loss: 0.207636] [G loss: 4.478506] [Elapsed time: 934.55s]\n",
            "[Epoch 61/200] [D loss: 0.206948] [G loss: 2.253342] [Elapsed time: 950.07s]\n",
            "[Epoch 62/200] [D loss: 0.163884] [G loss: 2.108115] [Elapsed time: 965.87s]\n",
            "[Epoch 63/200] [D loss: 0.174715] [G loss: 2.252178] [Elapsed time: 981.76s]\n",
            "[Epoch 64/200] [D loss: 0.077594] [G loss: 3.915731] [Elapsed time: 997.31s]\n",
            "[Epoch 65/200] [D loss: 0.173106] [G loss: 3.914461] [Elapsed time: 1012.61s]\n",
            "[Epoch 66/200] [D loss: 0.109640] [G loss: 2.471707] [Elapsed time: 1028.38s]\n",
            "[Epoch 67/200] [D loss: 0.119801] [G loss: 3.176238] [Elapsed time: 1044.38s]\n",
            "[Epoch 68/200] [D loss: 1.696074] [G loss: 13.955050] [Elapsed time: 1060.04s]\n",
            "[Epoch 69/200] [D loss: 0.115213] [G loss: 3.361423] [Elapsed time: 1075.75s]\n",
            "[Epoch 70/200] [D loss: 0.132752] [G loss: 2.974246] [Elapsed time: 1091.40s]\n",
            "[Epoch 71/200] [D loss: 0.114865] [G loss: 2.406763] [Elapsed time: 1106.89s]\n",
            "[Epoch 72/200] [D loss: 0.093607] [G loss: 3.175680] [Elapsed time: 1122.31s]\n",
            "[Epoch 73/200] [D loss: 0.138367] [G loss: 4.218705] [Elapsed time: 1137.62s]\n",
            "[Epoch 74/200] [D loss: 0.171591] [G loss: 4.363553] [Elapsed time: 1153.94s]\n",
            "[Epoch 75/200] [D loss: 0.143050] [G loss: 3.443868] [Elapsed time: 1169.89s]\n",
            "[Epoch 76/200] [D loss: 0.149303] [G loss: 3.102738] [Elapsed time: 1184.92s]\n",
            "[Epoch 77/200] [D loss: 0.071103] [G loss: 2.898335] [Elapsed time: 1200.01s]\n",
            "[Epoch 78/200] [D loss: 0.226333] [G loss: 6.072045] [Elapsed time: 1215.02s]\n",
            "[Epoch 79/200] [D loss: 0.211496] [G loss: 1.649651] [Elapsed time: 1230.26s]\n",
            "[Epoch 80/200] [D loss: 0.153225] [G loss: 3.610651] [Elapsed time: 1246.20s]\n",
            "[Epoch 81/200] [D loss: 0.141698] [G loss: 3.087235] [Elapsed time: 1261.40s]\n",
            "[Epoch 82/200] [D loss: 0.376428] [G loss: 6.935664] [Elapsed time: 1276.62s]\n",
            "[Epoch 83/200] [D loss: 0.101671] [G loss: 3.040328] [Elapsed time: 1291.84s]\n",
            "[Epoch 84/200] [D loss: 0.313357] [G loss: 5.268311] [Elapsed time: 1307.66s]\n",
            "[Epoch 85/200] [D loss: 0.127241] [G loss: 3.004545] [Elapsed time: 1322.75s]\n",
            "[Epoch 86/200] [D loss: 0.139000] [G loss: 3.247104] [Elapsed time: 1337.58s]\n",
            "[Epoch 87/200] [D loss: 0.128549] [G loss: 4.123817] [Elapsed time: 1353.09s]\n",
            "[Epoch 88/200] [D loss: 0.122821] [G loss: 3.514296] [Elapsed time: 1368.65s]\n",
            "[Epoch 89/200] [D loss: 0.854602] [G loss: 9.545325] [Elapsed time: 1384.28s]\n",
            "[Epoch 90/200] [D loss: 0.213221] [G loss: 2.739515] [Elapsed time: 1399.10s]\n",
            "[Epoch 91/200] [D loss: 0.149008] [G loss: 1.608760] [Elapsed time: 1414.05s]\n",
            "[Epoch 92/200] [D loss: 0.176145] [G loss: 3.086659] [Elapsed time: 1429.02s]\n",
            "[Epoch 93/200] [D loss: 0.105563] [G loss: 3.414479] [Elapsed time: 1444.29s]\n",
            "[Epoch 94/200] [D loss: 0.100520] [G loss: 3.395975] [Elapsed time: 1459.74s]\n",
            "[Epoch 95/200] [D loss: 0.112826] [G loss: 2.276518] [Elapsed time: 1474.85s]\n",
            "[Epoch 96/200] [D loss: 0.165729] [G loss: 2.955545] [Elapsed time: 1490.18s]\n",
            "[Epoch 97/200] [D loss: 1.389895] [G loss: 13.849409] [Elapsed time: 1505.34s]\n",
            "[Epoch 98/200] [D loss: 0.216991] [G loss: 4.484446] [Elapsed time: 1521.52s]\n",
            "[Epoch 99/200] [D loss: 0.099033] [G loss: 2.848220] [Elapsed time: 1537.02s]\n",
            "[Epoch 100/200] [D loss: 0.156149] [G loss: 2.869510] [Elapsed time: 1552.31s]\n",
            "[Epoch 101/200] [D loss: 0.116584] [G loss: 2.482851] [Elapsed time: 1568.58s]\n",
            "[Epoch 102/200] [D loss: 0.197587] [G loss: 2.495053] [Elapsed time: 1584.58s]\n",
            "[Epoch 103/200] [D loss: 0.120151] [G loss: 3.284174] [Elapsed time: 1599.76s]\n",
            "[Epoch 104/200] [D loss: 0.075671] [G loss: 3.157392] [Elapsed time: 1614.72s]\n",
            "[Epoch 105/200] [D loss: 0.093869] [G loss: 3.653502] [Elapsed time: 1629.76s]\n",
            "[Epoch 106/200] [D loss: 0.079276] [G loss: 2.991901] [Elapsed time: 1644.90s]\n",
            "[Epoch 107/200] [D loss: 0.168771] [G loss: 1.647079] [Elapsed time: 1660.93s]\n",
            "[Epoch 108/200] [D loss: 0.033546] [G loss: 3.555123] [Elapsed time: 1676.10s]\n",
            "[Epoch 109/200] [D loss: 0.182813] [G loss: 2.378969] [Elapsed time: 1691.16s]\n",
            "[Epoch 110/200] [D loss: 0.121764] [G loss: 2.760094] [Elapsed time: 1706.25s]\n",
            "[Epoch 111/200] [D loss: 0.180862] [G loss: 2.686970] [Elapsed time: 1721.71s]\n",
            "[Epoch 112/200] [D loss: 0.084315] [G loss: 3.147357] [Elapsed time: 1737.02s]\n",
            "[Epoch 113/200] [D loss: 0.128107] [G loss: 2.378604] [Elapsed time: 1751.90s]\n",
            "[Epoch 114/200] [D loss: 0.187234] [G loss: 5.559184] [Elapsed time: 1766.94s]\n",
            "[Epoch 115/200] [D loss: 0.085924] [G loss: 3.049888] [Elapsed time: 1782.93s]\n",
            "[Epoch 116/200] [D loss: 0.141927] [G loss: 3.284425] [Elapsed time: 1798.76s]\n",
            "[Epoch 117/200] [D loss: 0.112089] [G loss: 2.446306] [Elapsed time: 1813.75s]\n",
            "[Epoch 118/200] [D loss: 0.079366] [G loss: 3.642181] [Elapsed time: 1828.72s]\n",
            "[Epoch 119/200] [D loss: 0.058122] [G loss: 4.942141] [Elapsed time: 1843.74s]\n",
            "[Epoch 120/200] [D loss: 0.195041] [G loss: 4.179266] [Elapsed time: 1858.92s]\n",
            "[Epoch 121/200] [D loss: 0.141848] [G loss: 3.479109] [Elapsed time: 1874.62s]\n",
            "[Epoch 122/200] [D loss: 0.100812] [G loss: 3.654336] [Elapsed time: 1889.88s]\n",
            "[Epoch 123/200] [D loss: 0.154098] [G loss: 2.861885] [Elapsed time: 1905.04s]\n",
            "[Epoch 124/200] [D loss: 0.190709] [G loss: 3.389107] [Elapsed time: 1920.13s]\n",
            "[Epoch 125/200] [D loss: 0.047658] [G loss: 3.987779] [Elapsed time: 1935.93s]\n",
            "[Epoch 126/200] [D loss: 0.125520] [G loss: 2.888884] [Elapsed time: 1951.18s]\n",
            "[Epoch 127/200] [D loss: 0.285410] [G loss: 5.540595] [Elapsed time: 1966.46s]\n",
            "[Epoch 128/200] [D loss: 0.098513] [G loss: 6.188785] [Elapsed time: 1982.31s]\n",
            "[Epoch 129/200] [D loss: 0.107993] [G loss: 3.211602] [Elapsed time: 1998.50s]\n",
            "[Epoch 130/200] [D loss: 0.101474] [G loss: 3.863308] [Elapsed time: 2013.69s]\n",
            "[Epoch 131/200] [D loss: 0.074334] [G loss: 3.383130] [Elapsed time: 2028.84s]\n",
            "[Epoch 132/200] [D loss: 0.119360] [G loss: 3.121065] [Elapsed time: 2044.04s]\n",
            "[Epoch 133/200] [D loss: 0.099432] [G loss: 2.841643] [Elapsed time: 2059.00s]\n",
            "[Epoch 134/200] [D loss: 0.138204] [G loss: 3.204881] [Elapsed time: 2075.10s]\n",
            "[Epoch 135/200] [D loss: 0.119218] [G loss: 3.037763] [Elapsed time: 2090.16s]\n",
            "[Epoch 136/200] [D loss: 0.078986] [G loss: 5.146780] [Elapsed time: 2105.21s]\n",
            "[Epoch 137/200] [D loss: 0.170896] [G loss: 6.256508] [Elapsed time: 2120.10s]\n",
            "[Epoch 138/200] [D loss: 0.217622] [G loss: 2.474313] [Elapsed time: 2135.33s]\n",
            "[Epoch 139/200] [D loss: 0.069314] [G loss: 3.665555] [Elapsed time: 2150.87s]\n",
            "[Epoch 140/200] [D loss: 0.225350] [G loss: 4.957973] [Elapsed time: 2165.98s]\n",
            "[Epoch 141/200] [D loss: 0.092479] [G loss: 2.888452] [Elapsed time: 2180.95s]\n",
            "[Epoch 142/200] [D loss: 0.043953] [G loss: 3.393984] [Elapsed time: 2197.05s]\n",
            "[Epoch 143/200] [D loss: 0.134647] [G loss: 3.233813] [Elapsed time: 2212.97s]\n",
            "[Epoch 144/200] [D loss: 0.086819] [G loss: 3.776119] [Elapsed time: 2227.97s]\n",
            "[Epoch 145/200] [D loss: 0.141248] [G loss: 1.768964] [Elapsed time: 2243.10s]\n",
            "[Epoch 146/200] [D loss: 0.089987] [G loss: 2.491263] [Elapsed time: 2258.26s]\n",
            "[Epoch 147/200] [D loss: 0.127648] [G loss: 4.882197] [Elapsed time: 2273.36s]\n",
            "[Epoch 148/200] [D loss: 0.194646] [G loss: 2.757113] [Elapsed time: 2289.15s]\n",
            "[Epoch 149/200] [D loss: 0.097686] [G loss: 3.104682] [Elapsed time: 2304.21s]\n",
            "[Epoch 150/200] [D loss: 0.092337] [G loss: 3.061340] [Elapsed time: 2319.52s]\n",
            "[Epoch 151/200] [D loss: 0.112090] [G loss: 4.047475] [Elapsed time: 2334.67s]\n",
            "[Epoch 152/200] [D loss: 0.119856] [G loss: 3.319871] [Elapsed time: 2350.29s]\n",
            "[Epoch 153/200] [D loss: 0.175727] [G loss: 3.109062] [Elapsed time: 2365.53s]\n",
            "[Epoch 154/200] [D loss: 0.122220] [G loss: 4.086892] [Elapsed time: 2380.46s]\n",
            "[Epoch 155/200] [D loss: 0.213269] [G loss: 1.597945] [Elapsed time: 2395.38s]\n",
            "[Epoch 156/200] [D loss: 0.137434] [G loss: 4.873727] [Elapsed time: 2411.41s]\n",
            "[Epoch 157/200] [D loss: 0.117823] [G loss: 4.102308] [Elapsed time: 2426.84s]\n",
            "[Epoch 158/200] [D loss: 0.071554] [G loss: 4.384535] [Elapsed time: 2442.40s]\n",
            "[Epoch 159/200] [D loss: 0.174707] [G loss: 5.461604] [Elapsed time: 2457.48s]\n",
            "[Epoch 160/200] [D loss: 0.081274] [G loss: 3.158194] [Elapsed time: 2472.66s]\n",
            "[Epoch 161/200] [D loss: 0.130861] [G loss: 7.994064] [Elapsed time: 2487.68s]\n",
            "[Epoch 162/200] [D loss: 0.090649] [G loss: 3.026784] [Elapsed time: 2503.79s]\n",
            "[Epoch 163/200] [D loss: 0.094523] [G loss: 4.755232] [Elapsed time: 2518.70s]\n",
            "[Epoch 164/200] [D loss: 0.087872] [G loss: 3.802903] [Elapsed time: 2533.87s]\n",
            "[Epoch 165/200] [D loss: 0.073554] [G loss: 2.417428] [Elapsed time: 2548.92s]\n",
            "[Epoch 166/200] [D loss: 0.093300] [G loss: 3.499266] [Elapsed time: 2565.00s]\n",
            "[Epoch 167/200] [D loss: 0.063228] [G loss: 3.851857] [Elapsed time: 2580.22s]\n",
            "[Epoch 168/200] [D loss: 0.156714] [G loss: 2.841275] [Elapsed time: 2595.38s]\n",
            "[Epoch 169/200] [D loss: 0.102266] [G loss: 5.029268] [Elapsed time: 2611.49s]\n",
            "[Epoch 170/200] [D loss: 0.151496] [G loss: 2.466408] [Elapsed time: 2626.76s]\n",
            "[Epoch 171/200] [D loss: 0.236739] [G loss: 3.249617] [Elapsed time: 2642.98s]\n",
            "[Epoch 172/200] [D loss: 0.050275] [G loss: 3.276392] [Elapsed time: 2660.49s]\n",
            "[Epoch 173/200] [D loss: 0.064366] [G loss: 3.539015] [Elapsed time: 2677.20s]\n",
            "[Epoch 174/200] [D loss: 0.096093] [G loss: 2.272872] [Elapsed time: 2693.24s]\n",
            "[Epoch 175/200] [D loss: 0.153074] [G loss: 2.762661] [Elapsed time: 2708.35s]\n",
            "[Epoch 176/200] [D loss: 0.061968] [G loss: 4.732896] [Elapsed time: 2723.53s]\n",
            "[Epoch 177/200] [D loss: 0.113876] [G loss: 2.779967] [Elapsed time: 2738.65s]\n",
            "[Epoch 178/200] [D loss: 0.098810] [G loss: 3.014803] [Elapsed time: 2754.26s]\n",
            "[Epoch 179/200] [D loss: 0.159322] [G loss: 5.039463] [Elapsed time: 2769.74s]\n",
            "[Epoch 180/200] [D loss: 0.063574] [G loss: 5.061529] [Elapsed time: 2784.97s]\n",
            "[Epoch 181/200] [D loss: 0.212507] [G loss: 2.235291] [Elapsed time: 2800.08s]\n",
            "[Epoch 182/200] [D loss: 0.384454] [G loss: 1.518741] [Elapsed time: 2815.99s]\n",
            "[Epoch 183/200] [D loss: 0.137139] [G loss: 3.923182] [Elapsed time: 2832.09s]\n",
            "[Epoch 184/200] [D loss: 0.121493] [G loss: 2.714203] [Elapsed time: 2847.22s]\n",
            "[Epoch 185/200] [D loss: 0.107906] [G loss: 2.617136] [Elapsed time: 2862.42s]\n",
            "[Epoch 186/200] [D loss: 0.141148] [G loss: 2.664473] [Elapsed time: 2877.76s]\n",
            "[Epoch 187/200] [D loss: 0.262628] [G loss: 2.945871] [Elapsed time: 2893.10s]\n",
            "[Epoch 188/200] [D loss: 0.058154] [G loss: 4.088764] [Elapsed time: 2908.78s]\n",
            "[Epoch 189/200] [D loss: 0.064193] [G loss: 3.749920] [Elapsed time: 2924.02s]\n",
            "[Epoch 190/200] [D loss: 0.112270] [G loss: 2.911333] [Elapsed time: 2939.24s]\n",
            "[Epoch 191/200] [D loss: 0.150034] [G loss: 4.994802] [Elapsed time: 2954.30s]\n",
            "[Epoch 192/200] [D loss: 0.108201] [G loss: 2.308588] [Elapsed time: 2970.48s]\n",
            "[Epoch 193/200] [D loss: 0.049783] [G loss: 4.111694] [Elapsed time: 2985.38s]\n",
            "[Epoch 194/200] [D loss: 0.083252] [G loss: 5.226339] [Elapsed time: 3000.64s]\n",
            "[Epoch 195/200] [D loss: 0.066066] [G loss: 4.984260] [Elapsed time: 3015.54s]\n",
            "[Epoch 196/200] [D loss: 0.076324] [G loss: 3.007918] [Elapsed time: 3032.47s]\n",
            "[Epoch 197/200] [D loss: 0.078382] [G loss: 3.571805] [Elapsed time: 3047.69s]\n",
            "[Epoch 198/200] [D loss: 0.107752] [G loss: 3.939092] [Elapsed time: 3062.81s]\n",
            "[Epoch 199/200] [D loss: 0.053172] [G loss: 3.062000] [Elapsed time: 3077.80s]\n"
          ]
        }
      ]
    },
    {
      "cell_type": "markdown",
      "source": [
        "\n",
        "\n",
        "*   생성된 이미지 예시를 출력합니다.\n",
        "\n"
      ],
      "metadata": {
        "id": "2GsrtIfZ_eZw"
      }
    },
    {
      "cell_type": "code",
      "source": [
        "from IPython.display import Image\n",
        "\n",
        "Image('92000.png')"
      ],
      "metadata": {
        "colab": {
          "base_uri": "https://localhost:8080/",
          "height": 169
        },
        "id": "vzR-nIR5_hfO",
        "outputId": "4f5ea963-bbff-49a9-dbea-bbd1b4c830c2"
      },
      "execution_count": null,
      "outputs": [
        {
          "output_type": "execute_result",
          "data": {
            "image/png": "[encoded data removed]",
            "text/plain": [
              "<IPython.core.display.Image object>"
            ]
          },
          "metadata": {},
          "execution_count": 8
        }
      ]
    }
  ]
}